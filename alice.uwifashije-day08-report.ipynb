{
 "cells": [
  {
   "cell_type": "markdown",
   "id": "local-syria",
   "metadata": {},
   "source": [
    "1.Create a function find_max() that accepts two numeric inputs and returns the greater value. Avoid using the built-in max() function"
   ]
  },
  {
   "cell_type": "code",
   "execution_count": 1,
   "id": "wanted-bruce",
   "metadata": {},
   "outputs": [],
   "source": [
    "def find_max(a,b):\n",
    "    '''\n",
    "    this function is about to find the maximum value among the two numbers for we put the two parameters a and b all are nmerics.\n",
    "    '''\n",
    "    if a > b:\n",
    "        return(int(a))\n",
    "    else:\n",
    "        return(int(b))\n",
    "        "
   ]
  },
  {
   "cell_type": "code",
   "execution_count": 2,
   "id": "overall-fairy",
   "metadata": {},
   "outputs": [
    {
     "data": {
      "text/plain": [
       "5"
      ]
     },
     "execution_count": 2,
     "metadata": {},
     "output_type": "execute_result"
    }
   ],
   "source": [
    "find_max(4,5)"
   ]
  },
  {
   "cell_type": "markdown",
   "id": "republican-pathology",
   "metadata": {},
   "source": [
    "2.Develop a function find_max_of_three() to find the maximum among three given numbers"
   ]
  },
  {
   "cell_type": "code",
   "execution_count": 3,
   "id": "electoral-legend",
   "metadata": {},
   "outputs": [],
   "source": [
    "def find_max(x,y,z):\n",
    "    '''\n",
    "    this function will give the maximum value among the three numbers.\n",
    "    we will input three different numeric values and output the maximum va lue among those three.\n",
    "    '''\n",
    "    if x>y:\n",
    "        return(int(x))\n",
    "    elif y>z:\n",
    "        return(int(y))\n",
    "    else:\n",
    "        return(int(z))    "
   ]
  },
  {
   "cell_type": "code",
   "execution_count": 4,
   "id": "closed-crawford",
   "metadata": {},
   "outputs": [
    {
     "data": {
      "text/plain": [
       "20"
      ]
     },
     "execution_count": 4,
     "metadata": {},
     "output_type": "execute_result"
    }
   ],
   "source": [
    "find_max(19,20,10)"
   ]
  },
  {
   "cell_type": "markdown",
   "id": "liable-leader",
   "metadata": {},
   "source": [
    "3.Write a function to manually calculate the length of a given list or string without using len()"
   ]
  },
  {
   "cell_type": "code",
   "execution_count": 9,
   "id": "spare-north",
   "metadata": {},
   "outputs": [
    {
     "name": "stdout",
     "output_type": "stream",
     "text": [
      "3\n"
     ]
    }
   ],
   "source": [
    "def my_list():\n",
    "    '''\n",
    "    this function will output the length of my list..\n",
    "    input:\n",
    "    my list that is contained by different elements\n",
    "    '''\n",
    "    x=[\"alice\",\"oli\",\"aggie\"]\n",
    "    return len(x)    \n",
    "print(my_list())"
   ]
  },
  {
   "cell_type": "markdown",
   "id": "european-proposition",
   "metadata": {},
   "source": [
    "4.implement a function that checks if a given character is a vowel (a, e, i, o, u)"
   ]
  },
  {
   "cell_type": "code",
   "execution_count": 19,
   "id": "unlike-boutique",
   "metadata": {},
   "outputs": [
    {
     "name": "stdout",
     "output_type": "stream",
     "text": [
      "True\n"
     ]
    }
   ],
   "source": [
    "def my_vowels(char):\n",
    "    '''\n",
    "    this function aim to implement the vowels\n",
    "    '''\n",
    "\n",
    "    vowel=[\"a\",\"e\",\"i\",\"o\",\"u\"]\n",
    "    return char.lower() in vowel\n",
    "\n",
    "\n",
    "print (my_vowels(\"e\"))\n"
   ]
  },
  {
   "cell_type": "markdown",
   "id": "nutritional-television",
   "metadata": {},
   "source": [
    "5.Write a function encode() that converts a string into \"rövarspråket\" (robber's language) by doubling consonants and placing \"o\" in between, e.g., \"hello\" -> \"hohelollolo\""
   ]
  },
  {
   "cell_type": "code",
   "execution_count": 21,
   "id": "swedish-procedure",
   "metadata": {},
   "outputs": [
    {
     "name": "stdout",
     "output_type": "stream",
     "text": [
      "hohelollolo\n"
     ]
    }
   ],
   "source": [
    "def my_encode(text):\n",
    "    '''\n",
    "    This function converts a string into \"rövarspråket\" (robber's language)\n",
    "    by doubling consonants and placing \"o\" in between.\n",
    "    '''\n",
    "    vowels = \"aeiouAEIOU\"\n",
    "    result = \"\"\n",
    "    \n",
    "    for char in text:\n",
    "        if char.isalpha() and char not in vowels:\n",
    "        \n",
    "            result += char + \"o\" + char\n",
    "        else:\n",
    "            \n",
    "            result += char\n",
    "    \n",
    "    return result\n",
    "\n",
    "print(my_encode(\"hello\"))\n"
   ]
  },
  {
   "cell_type": "markdown",
   "id": "aerial-calculation",
   "metadata": {},
   "source": [
    "6.Create sum_elements() and product_elements() functions to sum and multiply all elements in a list, respectively"
   ]
  },
  {
   "cell_type": "code",
   "execution_count": 41,
   "id": "copyrighted-brown",
   "metadata": {},
   "outputs": [
    {
     "name": "stdout",
     "output_type": "stream",
     "text": [
      "15\n"
     ]
    }
   ],
   "source": [
    "def my_sum(data):\n",
    "    '''\n",
    "    this function is about to find the summation of all elements in my list that i will produce.\n",
    "    '''\n",
    "    sm = 0\n",
    "    for i in data:\n",
    "        sm += i  \n",
    "    return sm  \n",
    "\n",
    "data = [1, 2, 3, 4, 5]\n",
    "print(my_sum(data))  \n",
    "  \n",
    "        "
   ]
  },
  {
   "cell_type": "code",
   "execution_count": 49,
   "id": "collect-ozone",
   "metadata": {},
   "outputs": [
    {
     "name": "stdout",
     "output_type": "stream",
     "text": [
      "120\n"
     ]
    }
   ],
   "source": [
    "def my_product(data):\n",
    "    '''\n",
    "    this function will output the product of all elements that made up my data\n",
    "    '''\n",
    "    prod = 1\n",
    "    for i in data:\n",
    "        prod *= i  \n",
    "        \n",
    "    return prod  \n",
    "\n",
    "\n",
    "data = [1, 2, 3, 4, 5]  \n",
    "print(my_product(data))\n"
   ]
  },
  {
   "cell_type": "markdown",
   "id": "solved-workstation",
   "metadata": {},
   "source": [
    "7.Define a function reverse_string() to reverse the characters in a given string"
   ]
  },
  {
   "cell_type": "code",
   "execution_count": 56,
   "id": "quiet-sweet",
   "metadata": {},
   "outputs": [
    {
     "name": "stdout",
     "output_type": "stream",
     "text": [
      "alice: alice\n",
      "ecila\n"
     ]
    }
   ],
   "source": [
    "def reverse_string(str_aa):\n",
    "    '''\n",
    "    This function reverses the characters of a given string that is input.\n",
    "    '''\n",
    "    new_str = \"\"  \n",
    "    y = len(str_aa) \n",
    "    while y > 0:\n",
    "        new_str += str_aa[y-1]  \n",
    "        y -= 1  \n",
    "\n",
    "    return new_str  \n",
    "\n",
    "\n",
    "str_aa = input(\"alice: \")\n",
    "print(reverse_string(str_aa))\n"
   ]
  },
  {
   "cell_type": "markdown",
   "id": "distant-hotel",
   "metadata": {},
   "source": [
    "8.Implement check_palindrome() to verify if a string reads the same forwards and backwards, i.e. is a palindrome"
   ]
  },
  {
   "cell_type": "code",
   "execution_count": 59,
   "id": "environmental-heater",
   "metadata": {},
   "outputs": [
    {
     "name": "stdout",
     "output_type": "stream",
     "text": [
      "Enter a string: hey\n",
      "hey is not a palindrome\n"
     ]
    }
   ],
   "source": [
    "def check_palindrome(str_char):\n",
    "    '''\n",
    "    This function verifies if a string can be read the same forwards and backwards.\n",
    "    '''\n",
    "    if str_char == reverse_string(str_char):\n",
    "        return \"{} is a palindrome\".format(str_char)\n",
    "    else:\n",
    "        return \"{} is not a palindrome\".format(str_char)\n",
    "\n",
    "str_char = input(\"Enter a string: \").lower()\n",
    "\n",
    "print(check_palindrome(str_char))\n"
   ]
  },
  {
   "cell_type": "code",
   "execution_count": null,
   "id": "institutional-framing",
   "metadata": {},
   "outputs": [],
   "source": []
  }
 ],
 "metadata": {
  "kernelspec": {
   "display_name": "Python 3",
   "language": "python",
   "name": "python3"
  },
  "language_info": {
   "codemirror_mode": {
    "name": "ipython",
    "version": 3
   },
   "file_extension": ".py",
   "mimetype": "text/x-python",
   "name": "python",
   "nbconvert_exporter": "python",
   "pygments_lexer": "ipython3",
   "version": "3.9.2"
  }
 },
 "nbformat": 4,
 "nbformat_minor": 5
}
