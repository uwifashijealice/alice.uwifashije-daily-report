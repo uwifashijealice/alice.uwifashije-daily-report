{
 "cells": [
  {
   "cell_type": "markdown",
   "metadata": {},
   "source": [
    "# Lecture 4: Flow control "
   ]
  },
  {
   "cell_type": "markdown",
   "metadata": {},
   "source": [
    "### <left> <b> <span style=\"color:brown;\"> Objective: </span> </b></left>\n",
    "\n",
    "This lecture aims to introduce `flow control` mechanisms in Python, focusing on `conditional statements`, `loops`, and `exception handling`. We will review essential constructs like `if`, `else`, and `elif` for decision-making, as well as `for` and `while` loops for iteration.\n",
    "****"
   ]
  },
  {
   "cell_type": "markdown",
   "metadata": {},
   "source": [
    "**Flow control** in Python is essential for directing the flow of a program's execution, enabling dynamic and adaptable behavior. `Conditional statements`, such as `if`, `elif`, and `else`, allow you to execute different blocks of code based on specific conditions, facilitating complex decision-making processes. `Loops`, including `for` and `while`, provide mechanisms for repeating code execution, which is invaluable for tasks that involve processing collections of data or performing actions multiple times. Mastering these flow control constructs is key to writing efficient, readable, and flexible code, as they allow you to tailor your program's behavior to meet varying conditions and requirements."
   ]
  },
  {
   "cell_type": "markdown",
   "metadata": {},
   "source": [
    "## 0. Conditional Structure\n",
    "\n",
    "### 0.0. Instructions with the if...else clause\n",
    "\n",
    "Conditional statements are operations that the program executes when a logical expression evaluates to `True` or `False` (depending on the case). Conditional statements are defined within an `if...else` clause.\n",
    "\n",
    "The general structure of an `if...else` block is as follows:\n",
    "\n",
    "```python\n",
    "if logical_expression:\n",
    "    statement1\n",
    "    statement2\n",
    "    ...\n",
    "    statementn\n",
    "else:\n",
    "    other_block_of_statements\n",
    "```\n",
    "\n",
    "Note the `:` symbol following the `if` or `else` keyword, which indicates the end of the `if` or `else` declaration and the beginning of the statement definitions. Also, note that the `else` clause is optional, meaning there can be an `if` clause without an `else` clause.\n",
    "\n",
    "It is crucial to observe the essential role of *indentation*, which delineates each block of statements, and the presence of colons after the condition and after the `else` keyword."
   ]
  },
  {
   "cell_type": "code",
   "execution_count": 7,
   "metadata": {},
   "outputs": [
    {
     "name": "stdout",
     "output_type": "stream",
     "text": [
      "a exceeds 100\n",
      "================================================\n",
      "\t\n",
      "x does not exceed 100\n"
     ]
    }
   ],
   "source": [
    "# Instructions with a simple \"if\" clause\n",
    "a = 150\n",
    "if (a > 100):\n",
    "    print(\"a exceeds 100\")\n",
    "\n",
    "print(\"================================================\")\n",
    "print('\\t')\n",
    "\n",
    "\n",
    "# Instructions with the if...else clause\n",
    "x = 65\n",
    "if (x > 70):\n",
    "    print(\"x exceeds 70\")\n",
    "else:\n",
    "    print(\"x does not exceed 100\")\n"
   ]
  },
  {
   "cell_type": "code",
   "execution_count": 8,
   "metadata": {},
   "outputs": [
    {
     "name": "stdout",
     "output_type": "stream",
     "text": [
      "a exceeds 100\n",
      "================================================\n",
      "\t\n",
      "x does not exceed 70\n"
     ]
    }
   ],
   "source": [
    "# Instructions with a simple \"if\" clause\n",
    "a = 150\n",
    "if (a > 100):\n",
    "    print(\"a exceeds 100\")\n",
    "\n",
    "print(\"================================================\")\n",
    "print('\\t')\n",
    "\n",
    "\n",
    "# Instructions with the if...else clause\n",
    "x = 65\n",
    "if (x > 70):\n",
    "    print(\"x exceeds 70\")\n",
    "else:\n",
    "    print(\"x does not exceed 70\")"
   ]
  },
  {
   "cell_type": "markdown",
   "metadata": {},
   "source": [
    "### 0.1. Instructions with the if...elif...else clause\n",
    "\n",
    "The `if...elif...else` clause is used when there are multiple logical conditions, each associated with instructions to execute when they are met.\n",
    "\n",
    "```python\n",
    "    x = 0\n",
    "    if x > 0 :\n",
    "        print(\"x is positive\")\n",
    "    elif x < 0 :\n",
    "        print(\"x is negative\")\n",
    "    else:\n",
    "        print(\"x is zero\")\n",
    "```"
   ]
  },
  {
   "cell_type": "code",
   "execution_count": 3,
   "metadata": {},
   "outputs": [
    {
     "name": "stdout",
     "output_type": "stream",
     "text": [
      "x is zero\n"
     ]
    }
   ],
   "source": [
    "x = 0\n",
    "if x > 0 :\n",
    "    print(\"x is positive\")\n",
    "elif x < 0 :\n",
    "    print(\"x is negative\")\n",
    "else:\n",
    "        print(\"x is zero\")"
   ]
  },
  {
   "cell_type": "code",
   "execution_count": 4,
   "metadata": {},
   "outputs": [
    {
     "name": "stdout",
     "output_type": "stream",
     "text": [
      "y is positive\n"
     ]
    }
   ],
   "source": [
    "y = 3\n",
    "if y > 0 :\n",
    "    print(\"y is positive\")\n",
    "elif y < 0 :\n",
    "    print(\"y is negative\")\n",
    "else:\n",
    "        print(\"y is zero\")"
   ]
  },
  {
   "cell_type": "code",
   "execution_count": 6,
   "metadata": {},
   "outputs": [
    {
     "name": "stdout",
     "output_type": "stream",
     "text": [
      "z is negative\n"
     ]
    }
   ],
   "source": [
    "z = -1\n",
    "if z > 0 :\n",
    "    print(\"z is positive\")\n",
    "elif z < 0 :\n",
    "    print(\"z is negative\")\n",
    "else:\n",
    "        print(\"z is zero\")"
   ]
  },
  {
   "cell_type": "markdown",
   "metadata": {},
   "source": [
    "**Note:** As demonstrated by the example above, the `elif` clause can be used as many times as there are alternative conditions between the initial `if` clause and the final `else` clause. However, using `elif` is not mandatory for handling alternative conditions. You can simply use additional `if` clauses instead."
   ]
  },
  {
   "cell_type": "markdown",
   "metadata": {},
   "source": [
    "### 0.2. Defining nested `if` clauses**\n",
    "\n",
    "The previous examples illustrate first-level `if` clauses. In complex programs, it is very common to have nested `if` clauses, meaning that `if` clauses are defined inside other `if` clauses, sometimes at multiple levels. See the example below:\n",
    "\n",
    "```python\n",
    "a = 15\n",
    "b = 10\n",
    "\n",
    "if a > b:\n",
    "    print(\"a is greater than b\")\n",
    "    if a - b > 5:\n",
    "        print(\"The difference between a and b is greater than 5\")\n",
    "    else:\n",
    "        print(\"The difference between a and b is 5 or less\")\n",
    "else:\n",
    "    print(\"a is not greater than b\")\n",
    "```\n",
    "\n",
    "In this example, there is an `if` statement nested within another `if` statement. This structure allows for more granular control over the conditions and the corresponding actions in your program.\n"
   ]
  },
  {
   "cell_type": "code",
   "execution_count": 9,
   "metadata": {},
   "outputs": [
    {
     "name": "stdout",
     "output_type": "stream",
     "text": [
      "a is greater than b\n",
      "The difference between a and b is 5 or less\n"
     ]
    }
   ],
   "source": [
    "a = 15\n",
    "b = 10\n",
    "\n",
    "if a > b:\n",
    "    print(\"a is greater than b\")\n",
    "    if a - b > 5:\n",
    "        print(\"The difference between a and b is greater than 5\")\n",
    "    else:\n",
    "        print(\"The difference between a and b is 5 or less\")\n",
    "else:\n",
    "    print(\"a is not greater than b\")"
   ]
  },
  {
   "cell_type": "code",
   "execution_count": 1,
   "metadata": {},
   "outputs": [
    {
     "name": "stdout",
     "output_type": "stream",
     "text": [
      "La classification des animaux est complexe\n"
     ]
    }
   ],
   "source": [
    "embranchement = \"rien\"\n",
    "if embranchement == \"vertébrés\":\n",
    "    if classe == \"mammifères\":\n",
    "        if ordre == \"carnivores\":\n",
    "            if famille == \"félins\":\n",
    "                print(\"Il s’agit peut-être d’un chat\")\n",
    "        print(\"C’est en tous cas un mammifère\")\n",
    "    elif classe == \"oiseaux\":\n",
    "        print(\"c’est peut-être un canari\")\n",
    "print(\"La classification des animaux est complexe\")                "
   ]
  },
  {
   "cell_type": "code",
   "execution_count": null,
   "metadata": {},
   "outputs": [],
   "source": [
    "a= my name\n",
    "if a==\n",
    "   print(\"my first name\")\n",
    "if a is     "
   ]
  },
  {
   "cell_type": "markdown",
   "metadata": {},
   "source": [
    "## 1. Loop Instructions\n",
    "\n",
    "In Python, there are two main types of loop instructions:\n",
    "\n",
    "1. **`while...` loops**: These loops execute a block of code repeatedly as long as a specified condition remains `True`. They are useful when the number of iterations is not known in advance and depends on dynamic conditions evaluated during execution.\n",
    "\n",
    "2. **`for... in...` loops**: These loops iterate over a sequence (such as a list, tuple, or string) or other iterable objects. They are ideal for iterating through known sequences or ranges of values, allowing for clear and concise iteration over collections or ranges.\n",
    "\n",
    "Both types of loops are fundamental for controlling the flow of execution and repeating tasks efficiently in Python programs.\n",
    "\n",
    "\n",
    "###  1.0. while... loops\n",
    "\n",
    "After introducing conditional structures, we turn our attention to loop structures: these structures allow a block of instructions to be executed multiple times. These repetitions fall into two categories:\n",
    "\n",
    "- **Conditional repetitions**: The block of instructions is repeated as long as a condition is true.\n",
    "\n",
    "- **Unconditional repetitions**: The block of instructions is repeated a specified number of times.\n",
    "\n",
    "The general syntax for defining `while` loop instructions is as follows:\n",
    "\n",
    "```python\n",
    "   Initialize increment variable\n",
    "   while condition:\n",
    "        block_of_instructions\n",
    "        increment\n",
    "```\n",
    "\n",
    "As with the `if` structure, the condition is first evaluated, and if it is true, the block of instructions is executed. However, with the `while` loop, after executing the block of instructions, the condition is evaluated again. This process repeats until the condition becomes false. Therefore, it is essential to define an increment variable whose value changes after each execution so that the condition can eventually become false. This increment is necessary to prevent the instructions from being evaluated indefinitely, creating an infinite loop (or endless loop). Such a situation requires forcibly stopping the program's execution."
   ]
  },
  {
   "cell_type": "code",
   "execution_count": 37,
   "metadata": {},
   "outputs": [
    {
     "name": "stdout",
     "output_type": "stream",
     "text": [
      "The value of x is  1\n",
      "The value of x is  2\n",
      "The value of x is  3\n",
      "The value of x is  4\n",
      "The value of x is  5\n",
      "The value of x is  6\n",
      "The value of x is  7\n",
      "The value of x is  8\n",
      "The value of x is  9\n"
     ]
    }
   ],
   "source": [
    "x = 1 # Initialization of the variable x\n",
    "while (x < 10):\n",
    "    print('The value of x is ', x)\n",
    "    x = x + 1 # Increment of the variable x"
   ]
  },
  {
   "cell_type": "code",
   "execution_count": 38,
   "metadata": {},
   "outputs": [
    {
     "name": "stdout",
     "output_type": "stream",
     "text": [
      "pommes\n",
      "oranges\n",
      "fraises\n",
      "bananes\n"
     ]
    }
   ],
   "source": [
    "fruits = ['pommes', 'oranges', 'fraises', 'bananes']\n",
    "i = 0\n",
    "while i < len(fruits):\n",
    "    print (fruits[i])\n",
    "    i = i + 1"
   ]
  },
  {
   "cell_type": "markdown",
   "metadata": {},
   "source": [
    "### 1.1. Loop Instructions: `for... in...`\n",
    "\n",
    "When we want to repeat a block of instructions a specified number of times, we can use a *counter*, which is a variable that counts the number of repetitions and controls the exit of the `while` loop. This is illustrated in the following example, where a function takes an integer `n` as an argument and prints the same message `n` times.\n",
    "\n",
    "To perform such a repetition, we have a loop structure that saves us from initializing the counter `(i = 0)` and incrementing it `(i += 1)`: this is the structure introduced by the `for` keyword.\n",
    "\n",
    "The general syntax for defining `for... in...` loop instructions is as follows:\n",
    "\n",
    "```python\n",
    "   for element in sequence_of_values :\n",
    "        block of instructions\n",
    "```"
   ]
  },
  {
   "cell_type": "code",
   "execution_count": 39,
   "metadata": {},
   "outputs": [
    {
     "name": "stdout",
     "output_type": "stream",
     "text": [
      "I repeat myself 5 times. (i=0)\n",
      "I repeat myself 5 times. (i=1)\n",
      "I repeat myself 5 times. (i=2)\n",
      "I repeat myself 5 times. (i=3)\n",
      "I repeat myself 5 times. (i=4)\n"
     ]
    }
   ],
   "source": [
    "n = 5\n",
    "for i in range(n):\n",
    "    print('I repeat myself {} times.' ' (i={})'.format(n, i))"
   ]
  },
  {
   "cell_type": "code",
   "execution_count": 40,
   "metadata": {},
   "outputs": [
    {
     "name": "stdout",
     "output_type": "stream",
     "text": [
      "1\n",
      "2\n",
      "3\n",
      "4\n",
      "5\n",
      "6\n",
      "7\n",
      "8\n",
      "9\n",
      "10\n"
     ]
    }
   ],
   "source": [
    "# Instruction dans une boucle « for.. in ... » simple\n",
    "for i in range(1,11) :\n",
    "    print(i)"
   ]
  },
  {
   "cell_type": "code",
   "execution_count": 41,
   "metadata": {},
   "outputs": [
    {
     "name": "stdout",
     "output_type": "stream",
     "text": [
      "H\n",
      "e\n",
      "l\n",
      "l\n",
      "o\n",
      " \n",
      "w\n",
      "o\n",
      "r\n",
      "l\n",
      "d\n"
     ]
    }
   ],
   "source": [
    "# Boucle « for.. in... » sur une chaine de caractères\n",
    "listch = \"Hello world\"\n",
    "for i in listch :\n",
    "    print ( i )"
   ]
  },
  {
   "cell_type": "code",
   "execution_count": 42,
   "metadata": {},
   "outputs": [
    {
     "name": "stdout",
     "output_type": "stream",
     "text": [
      "The condition is not verified for the element 4\n",
      "The condition is verified for the element 5\n",
      "The condition is not verified for the element 6\n"
     ]
    }
   ],
   "source": [
    "# Combining a `for...in...` Loop with an `if` Clause\n",
    "listnb = [4, 5, 6]\n",
    "for i in listnb:\n",
    "    if i == 5:\n",
    "        print(\"The condition is verified for the element\", i)\n",
    "    else :\n",
    "        print(\"The condition is not verified for the element\", i)"
   ]
  },
  {
   "cell_type": "code",
   "execution_count": 43,
   "metadata": {},
   "outputs": [
    {
     "name": "stdout",
     "output_type": "stream",
     "text": [
      "La lettre H est une consonne\n",
      "La lettre e est une voyelle\n",
      "La lettre l est une consonne\n",
      "La lettre l est une consonne\n",
      "La lettre o est une voyelle\n",
      "La lettre   est une consonne\n",
      "La lettre W est une consonne\n",
      "La lettre o est une voyelle\n",
      "La lettre r est une consonne\n",
      "La lettre l est une consonne\n",
      "La lettre d est une consonne\n"
     ]
    }
   ],
   "source": [
    "# Combining a `for...in...` Loop with an `if` Clause\n",
    "mych = \"Hello World\"\n",
    "for lettre in mych :\n",
    "    if lettre in \"AEIOUYaeiouy\":\n",
    "        print ('La lettre', lettre, 'est une voyelle')\n",
    "    else :\n",
    "        print ('La lettre', lettre, 'est une consonne')"
   ]
  },
  {
   "cell_type": "code",
   "execution_count": 44,
   "metadata": {},
   "outputs": [
    {
     "name": "stdout",
     "output_type": "stream",
     "text": [
      "The letter H is a consonant\n",
      "The letter e is a vowel\n",
      "The letter l is a consonant\n",
      "The letter l is a consonant\n",
      "The letter o is a vowel\n",
      "This is likely a space\n",
      "The letter W is a consonant\n",
      "The letter o is a vowel\n",
      "The letter r is a consonant\n",
      "The letter l is a consonant\n",
      "The letter d is a consonant\n"
     ]
    }
   ],
   "source": [
    "# Combining a `for...in...` Loop with an `if` Clause\n",
    "# Considering the `space` character\n",
    "mych = \"Hello World\"\n",
    "for letter in mych:\n",
    "    if letter in \"AEIOUYaeiouy\":\n",
    "        print('The letter', letter, 'is a vowel')\n",
    "    elif letter == \" \":\n",
    "        print(\"This is likely a space\")\n",
    "    else:\n",
    "        print('The letter', letter, 'is a consonant')\n"
   ]
  },
  {
   "cell_type": "code",
   "execution_count": 45,
   "metadata": {},
   "outputs": [
    {
     "name": "stdout",
     "output_type": "stream",
     "text": [
      "A mangue costs 49 Rwandan francs.\n",
      "A orange costs 99 Rwandan francs.\n",
      "A pomme costs 15 Rwandan francs.\n",
      "A banane costs 32 Rwandan francs.\n"
     ]
    }
   ],
   "source": [
    "fruits = ['mangue', 'orange', 'pomme', 'banane']\n",
    "costs = [49, 99, 15, 32]\n",
    "for fruit, price in zip(fruits, costs):\n",
    "    print(\"A\", fruit, \"costs\", price, \"Rwandan francs.\")\n"
   ]
  },
  {
   "cell_type": "code",
   "execution_count": 46,
   "metadata": {},
   "outputs": [
    {
     "name": "stdout",
     "output_type": "stream",
     "text": [
      "A mangue costs 49 Rwandan francs.\n",
      "A orange costs 99 Rwandan francs.\n",
      "A pomme costs 15 Rwandan francs.\n",
      "A banane costs 32 Rwandan francs.\n"
     ]
    }
   ],
   "source": [
    "costs = {'mangue': 49, 'orange': 99, 'pomme': 15, 'banane': 32}\n",
    "for fruit, price in costs.items():\n",
    "    print(\"A\", fruit, \"costs\", price, \"Rwandan francs.\")\n"
   ]
  },
  {
   "cell_type": "markdown",
   "metadata": {},
   "source": [
    "## 2. List Comprehension\n",
    "\n",
    "In Python, a convenient and expressive syntax for creating lists is provided by list comprehensions. This method allows you to generate lists in a very concise way, often eliminating the need for explicit loops when elements need to be tested or processed before being included in the list.\n",
    "\n",
    "The syntax for defining a list comprehension is similar to the mathematical notation for defining a set comprehension:\n",
    "\n",
    "```python\n",
    "[expression for item in iterable if condition]\n",
    "```\n",
    "\n",
    "Here’s a breakdown of the components:\n",
    "- **`expression`**: The value or transformation to apply to each item.\n",
    "- **`item`**: The variable representing each element in the iterable.\n",
    "- **`iterable`**: The collection or sequence you are iterating over.\n",
    "- **`condition`** (optional): A filter that determines which items to include.\n",
    "\n",
    "**Example:**\n",
    "\n",
    "Suppose you want to create a list of squares for all even numbers between 1 and 10. Using a list comprehension, you can achieve this concisely:\n",
    "\n",
    "```python\n",
    "squares = [x**2 for x in range(1, 11) if x % 2 == 0]\n",
    "print(squares)\n",
    "```\n",
    "\n",
    "**Explanation:**\n",
    "- `x**2` is the expression that computes the square of each item.\n",
    "- `x` is the item variable iterating over the numbers in `range(1, 11)`.\n",
    "- `range(1, 11)` is the iterable providing numbers from 1 to 10.\n",
    "- `if x % 2 == 0` is the condition filtering only even numbers.\n",
    "\n",
    "The output will be:\n",
    "```\n",
    "[4, 16, 36, 64, 100]\n",
    "```\n",
    "\n",
    "This approach is both readable and efficient for generating lists based on specific criteria or transformations."
   ]
  },
  {
   "cell_type": "markdown",
   "metadata": {},
   "source": [
    "<center>\n",
    "    <img src=\"images/list-comprehension.png\" width=\"60%\">\n",
    "    </center>"
   ]
  },
  {
   "cell_type": "markdown",
   "metadata": {},
   "source": []
  },
  {
   "cell_type": "code",
   "execution_count": 47,
   "metadata": {},
   "outputs": [
    {
     "name": "stdout",
     "output_type": "stream",
     "text": [
      "[6, 12, 18, 24, 30]\n",
      "================================================\n",
      "\t\n",
      "[[2, 8], [4, 64], [6, 216], [8, 512], [10, 1000]]\n",
      "================================================\n",
      "\t\n",
      "[18, 24, 30]\n",
      "================================================\n",
      "\t\n",
      "[6, 12, 18]\n",
      "================================================\n",
      "\t\n",
      "[0, 2, 4, 0, 4, 8, 0, 6, 12, 0, 8, 16, 0, 10, 20]\n"
     ]
    }
   ],
   "source": [
    "liste = [2, 4, 6, 8, 10]\n",
    "\n",
    "print([3*x for x in liste])\n",
    "print(\"================================================\")\n",
    "print('\\t')\n",
    "\n",
    "print([[x, x**3] for x in liste])\n",
    "print(\"================================================\")\n",
    "print('\\t')\n",
    "\n",
    "print([3*x for x in liste if x > 5])  # filtering with a condition\n",
    "print(\"================================================\")\n",
    "print('\\t')\n",
    "\n",
    "print([3*x for x in liste if x**2 < 50])  # same as above\n",
    "print(\"================================================\")\n",
    "print('\\t')\n",
    "\n",
    "liste2 = list(range(3))\n",
    "print([x*y for x in liste for y in liste2])\n"
   ]
  },
  {
   "cell_type": "code",
   "execution_count": 48,
   "metadata": {},
   "outputs": [
    {
     "name": "stdout",
     "output_type": "stream",
     "text": [
      "[2000, 2004, 2008, 2012, 2016, 2020, 2024, 2028, 2032, 2036, 2040, 2044, 2048, 2052, 2056, 2060, 2064, 2068, 2072, 2076, 2080, 2084, 2088, 2092, 2096]\n"
     ]
    }
   ],
   "source": [
    "# Here is an example of an efficient way to get a list of leap years within a given range:\n",
    "leap_years = [year for year in range(2000, 2100) if (year % 4 == 0 and year % 100 != 0) or (year % 400 == 0)]\n",
    "\n",
    "print(leap_years)"
   ]
  },
  {
   "cell_type": "markdown",
   "metadata": {},
   "source": [
    "## 3. **Break and Continue statements in `while...` or `for... in...` loops**\n",
    "\n",
    "The reserved keywords `break` and `continue` are used to alter the behavior of `for...in` or `while...` loops. The `break` statement allows for the termination of the loop and the exit from it prematurely, even if the main condition defining the loop remains true. On the other hand, the `continue` statement is used to skip the execution of the remaining instructions in the current iteration of the loop and proceed to the next iteration when the main condition is satisfied. The following examples illustrate their use."
   ]
  },
  {
   "cell_type": "markdown",
   "metadata": {},
   "source": [
    "```python\n",
    "# Loop with the break statement\n",
    "for i in range(5):\n",
    "    if i > 2:\n",
    "        break\n",
    "print(i)\n",
    "```"
   ]
  },
  {
   "cell_type": "code",
   "execution_count": 49,
   "metadata": {},
   "outputs": [
    {
     "name": "stdout",
     "output_type": "stream",
     "text": [
      "3\n"
     ]
    }
   ],
   "source": [
    "for i in range(5):\n",
    "    if i > 2:\n",
    "        break\n",
    "print(i)"
   ]
  },
  {
   "cell_type": "markdown",
   "metadata": {},
   "source": [
    "**Explanation:**\n",
    "\n",
    "- The loop iterates over a range of values from 0 to 4.\n",
    "- When `i` becomes greater than 2, the `break` statement is executed, which exits the loop immediately.\n",
    "- Therefore, the loop stops, and the value of `i` at the time the loop is exited is printed. In this case, the output will be `3`."
   ]
  },
  {
   "cell_type": "markdown",
   "metadata": {},
   "source": [
    "\n",
    "```python\n",
    "# Loop with the continue statement\n",
    "for i in range(5):\n",
    "    if i == 2:\n",
    "        continue\n",
    "    print(i)\n",
    "```"
   ]
  },
  {
   "cell_type": "code",
   "execution_count": 50,
   "metadata": {},
   "outputs": [
    {
     "name": "stdout",
     "output_type": "stream",
     "text": [
      "0\n",
      "1\n",
      "3\n",
      "4\n"
     ]
    }
   ],
   "source": [
    "for i in range(5):\n",
    "    if i == 2:\n",
    "        continue\n",
    "    print(i)"
   ]
  },
  {
   "cell_type": "markdown",
   "metadata": {},
   "source": [
    "**Explanation:**\n",
    "\n",
    "- The loop iterates over a range of values from 0 to 4.\n",
    "- When `i` equals 2, the `continue` statement is executed. This causes the loop to skip the rest of the code inside the loop for this iteration and proceed to the next iteration.\n",
    "- As a result, `2` is not printed. The output will be `0`, `1`, `3`, and `4`."
   ]
  },
  {
   "cell_type": "markdown",
   "metadata": {},
   "source": [
    "## Further reading\n",
    "\n",
    "0. [Programming with Python](python.aims.ac.za); [Section 13](https://python.aims.ac.za/pages/conditionals.html)\n",
    "1. [Programming with Python](python.aims.ac.za); [Section 16](https://python.aims.ac.za/pages/loop_for.html)\n",
    "2. [Programming with Python](python.aims.ac.za); [Section 27](https://python.aims.ac.za/pages/conditionals_02.html#)\n",
    "3. [Programming with Python](python.aims.ac.za); [Section 28](https://python.aims.ac.za/pages/loop_while_break_continue.html)\n"
   ]
  }
 ],
 "metadata": {
  "kernelspec": {
   "display_name": "Python 3",
   "language": "python",
   "name": "python3"
  },
  "language_info": {
   "codemirror_mode": {
    "name": "ipython",
    "version": 3
   },
   "file_extension": ".py",
   "mimetype": "text/x-python",
   "name": "python",
   "nbconvert_exporter": "python",
   "pygments_lexer": "ipython3",
   "version": "3.9.2"
  }
 },
 "nbformat": 4,
 "nbformat_minor": 2
}
