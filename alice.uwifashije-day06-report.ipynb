{
 "cells": [
  {
   "cell_type": "markdown",
   "id": "excited-trunk",
   "metadata": {},
   "source": [
    "1. Compute the following expressions for a natural number n chosen by the user:\n",
    "(i)\n",
    "n−1X\n",
    "i=0\n",
    "i is odd\n",
    "(i + 3).\n",
    "(ii)\n",
    "n−1Y\n",
    "i=0\n",
    "i is even\n",
    "(i + 3)"
   ]
  },
  {
   "cell_type": "code",
   "execution_count": 26,
   "id": "formal-inclusion",
   "metadata": {},
   "outputs": [
    {
     "name": "stdout",
     "output_type": "stream",
     "text": [
      "0\n",
      "odd\n",
      "2\n",
      "odd\n",
      "4\n",
      "odd\n",
      "6\n",
      "odd\n",
      "8\n",
      "odd\n",
      "10\n",
      "odd\n",
      "12\n",
      "odd\n",
      "14\n",
      "odd\n",
      "16\n",
      "odd\n",
      "18\n",
      "odd\n",
      "20\n",
      "odd\n",
      "22\n",
      "odd\n",
      "24\n",
      "odd\n",
      "26\n"
     ]
    }
   ],
   "source": [
    "n = 26\n",
    "somme = 0\n",
    "\n",
    "for i in range(n+1):\n",
    "        if i%2 == 0:\n",
    "            print(i)\n",
    "        else:\n",
    "                print(\"odd\")\n",
    "            \n",
    "\n"
   ]
  },
  {
   "cell_type": "markdown",
   "id": "sized-merit",
   "metadata": {},
   "source": [
    "2. Write a program that reads the number of the day of the week (from 0 to 6). If it is a\n",
    "working day, then the program will write the name of the corresponding day. Otherwise,\n",
    "it will write the word \"Weekend\""
   ]
  },
  {
   "cell_type": "code",
   "execution_count": 32,
   "id": "entertaining-neighbor",
   "metadata": {},
   "outputs": [
    {
     "name": "stdout",
     "output_type": "stream",
     "text": [
      "choose a number between 0 and 6 4\n",
      "friday\n"
     ]
    }
   ],
   "source": [
    "x=[\"monday\" , \"tuesday\" , \"wednesday\", \"thursday\", \"friday\", \"saturday\"]\n",
    "number = n = int(input(\"choose a number between 0 and 6 \"))\n",
    "if 0<= n <= 4:\n",
    "    print(x[n])\n",
    "else:\n",
    "    print('weekend')"
   ]
  },
  {
   "cell_type": "markdown",
   "id": "activated-whole",
   "metadata": {},
   "source": [
    "3. Make a program that, given a month number (from 0 to 11), indicates how many days it\n",
    "has (28, 30 or 31), ignoring the leap years"
   ]
  },
  {
   "cell_type": "code",
   "execution_count": 36,
   "id": "southeast-calibration",
   "metadata": {},
   "outputs": [
    {
     "name": "stdout",
     "output_type": "stream",
     "text": [
      "choose y between 0 and 1113\n",
      "Invalid input! The input should be from 0 to 11\n"
     ]
    }
   ],
   "source": [
    "y=[\"January\", \"February\", \"March\", \"April\", \"May\", \"June\", \"July\", \"August\", \"September\",\"October\", \"November\",\"December\"]\n",
    "x=[\"31\", \"28\", \"31\", \"30\", \"31\", \"30\",\"31\",\"31\",\"30\",\"31\", \"30\",\"31\"]\n",
    "n=int(input(\"choose y between 0 and 11\"))\n",
    "a=[0, 2, 4, 6, 7, 9, 11]\n",
    "b=[3, 5, 8, 10]\n",
    "if n in a: \n",
    "    print('31 days')\n",
    "elif n ==2:\n",
    "    print('28 days')\n",
    "elif n in b:\n",
    "    print('30 days')\n",
    "else:\n",
    "    print('Invalid input! The input should be from 0 to 11')\n",
    "       "
   ]
  },
  {
   "cell_type": "markdown",
   "id": "boxed-procurement",
   "metadata": {},
   "source": [
    "4. Write two versions of python code that displays your name 3 times. One version with a\n",
    "\"for loop\" and another version with a \"while loop\""
   ]
  },
  {
   "cell_type": "code",
   "execution_count": 52,
   "id": "interim-fields",
   "metadata": {},
   "outputs": [
    {
     "name": "stdout",
     "output_type": "stream",
     "text": [
      "alice\n",
      "alice\n",
      "alice\n"
     ]
    }
   ],
   "source": [
    "aa=\"alice\"\n",
    "for i in range(3):\n",
    "    print(aa)"
   ]
  },
  {
   "cell_type": "code",
   "execution_count": 2,
   "id": "cheap-graham",
   "metadata": {},
   "outputs": [
    {
     "ename": "NameError",
     "evalue": "name 'i' is not defined",
     "output_type": "error",
     "traceback": [
      "\u001b[0;31m---------------------------------------------------------------------------\u001b[0m",
      "\u001b[0;31mNameError\u001b[0m                                 Traceback (most recent call last)",
      "\u001b[0;32m<ipython-input-2-81a5fe751bd7>\u001b[0m in \u001b[0;36m<module>\u001b[0;34m\u001b[0m\n\u001b[1;32m      1\u001b[0m \u001b[0maa\u001b[0m\u001b[0;34m=\u001b[0m\u001b[0;34m\"alice\"\u001b[0m\u001b[0;34m\u001b[0m\u001b[0;34m\u001b[0m\u001b[0m\n\u001b[0;32m----> 2\u001b[0;31m \u001b[0;32mwhile\u001b[0m \u001b[0mi\u001b[0m \u001b[0;32min\u001b[0m \u001b[0;34m(\u001b[0m\u001b[0;36m3\u001b[0m\u001b[0;34m)\u001b[0m\u001b[0;34m:\u001b[0m\u001b[0;34m\u001b[0m\u001b[0;34m\u001b[0m\u001b[0m\n\u001b[0m\u001b[1;32m      3\u001b[0m     \u001b[0mprint\u001b[0m\u001b[0;34m(\u001b[0m\u001b[0mint\u001b[0m\u001b[0;34m(\u001b[0m\u001b[0maa\u001b[0m\u001b[0;34m)\u001b[0m\u001b[0;34m)\u001b[0m\u001b[0;34m\u001b[0m\u001b[0;34m\u001b[0m\u001b[0m\n",
      "\u001b[0;31mNameError\u001b[0m: name 'i' is not defined"
     ]
    }
   ],
   "source": [
    "aa=\"alice\"\n",
    "while i in (3):\n",
    "    print(int(aa))"
   ]
  },
  {
   "cell_type": "markdown",
   "id": "conceptual-welsh",
   "metadata": {},
   "source": [
    "5. Given two numbers a0 and a1, the Fibonacci sequence they generate is constructed from\n",
    "the recursion formula an+1 = an + an−1. Calculate the first 15 terms of a Fibonacci\n",
    "sequence, asking the user the initial values."
   ]
  },
  {
   "cell_type": "code",
   "execution_count": 5,
   "id": "blocked-compensation",
   "metadata": {},
   "outputs": [
    {
     "name": "stdout",
     "output_type": "stream",
     "text": [
      "Enter the first number (x): 3\n",
      "Enter the second number (y): 4\n",
      "The first 15 terms of the Fibonacci sequence are:\n",
      "[5, 6, 11, 17, 28, 45, 73, 118, 191, 309, 500, 809, 1309, 2118, 3427, 11, 17, 28, 45, 73, 118, 191, 309, 500, 809, 1309, 2118, 3427]\n"
     ]
    }
   ],
   "source": [
    "\n",
    "x = int(input(\"Enter the first number (x): \"))\n",
    "y = int(input(\"Enter the second number (y): \"))\n",
    "\n",
    "n = [x, y]\n",
    "\n",
    "\n",
    "for i in range(2, 15):\n",
    "    next_term = fibonacci_sequence[i-1] + fibonacci_sequence[i-2]\n",
    "    fibonacci_sequence.append(next_term)\n",
    "\n",
    "print(\"The first 15 terms of the Fibonacci sequence are:\")\n",
    "print(fibonacci_sequence)\n",
    "\n",
    "\n"
   ]
  },
  {
   "cell_type": "markdown",
   "id": "significant-muscle",
   "metadata": {},
   "source": [
    "6. Compute the first 30 terms of the sequence defined by 2xn+2 − xn+1 − 6xn = 0 sequence,\n",
    "given any two initial values x0 and x1"
   ]
  },
  {
   "cell_type": "code",
   "execution_count": 9,
   "id": "endless-judgment",
   "metadata": {},
   "outputs": [
    {
     "name": "stdout",
     "output_type": "stream",
     "text": [
      "Enter the first value (x0): 2\n",
      "Enter the second value (x1): 14\n",
      "The first 30 terms of the sequence are: [2.0, 14.0, 13.0, 40.0, 13.0, 48.5, 59.0, 126.5, 63.25, 175.0, 240.25, 411.125, 277.25, 645.125, 926.3125, 1372.0, 1154.3125, 2398.53125, 3464.9375, 4693.15625, 4662.203125, 8928.0625, 12741.390625, 16410.5703125, 18450.640625, 33154.8828125, 46429.45703125, 58457.03125, 71929.36328125, 122679.376953125, 168516.88671875, 211335.775390625]\n"
     ]
    }
   ],
   "source": [
    "\n",
    "x0 = float(input(\"Enter the first value (x0): \"))\n",
    "x1 = float(input(\"Enter the second value (x1): \"))\n",
    "\n",
    "sequence = [x0, x1]\n",
    "\n",
    "\n",
    "for n in range(30):\n",
    "    \n",
    "    next_term = (sequence[n-1] + 6 * sequence[n-2]) / 2\n",
    "    sequence.append(next_term)\n",
    "\n",
    "\n",
    "print(\"The first 30 terms of the sequence are:\", sequence)\n",
    "\n"
   ]
  },
  {
   "cell_type": "markdown",
   "id": "stopped-austria",
   "metadata": {},
   "source": [
    "7. a) Write python code to determine whether or not a year is a leap year. Be sure you\n",
    "know what a leap year is"
   ]
  },
  {
   "cell_type": "code",
   "execution_count": 1,
   "id": "respiratory-addiction",
   "metadata": {},
   "outputs": [
    {
     "name": "stdout",
     "output_type": "stream",
     "text": [
      "Enter a year: 2013\n",
      " is not a leap year.\n"
     ]
    }
   ],
   "source": [
    "\n",
    "year = int(input(\"Enter a year: \"))\n",
    "\n",
    "\n",
    "if year % 4 == 0: \n",
    "    if year % 100 == 0: \n",
    "        if year % 400 == 0: \n",
    "            print(f\"{year} is a leap year.\")\n",
    "        else: \n",
    "            print(f\"{year} is not a leap year.\")\n",
    "    else:  \n",
    "        print(\" a leap year.\")\n",
    "else:  \n",
    "    print(\" is not a leap year.\")\n"
   ]
  },
  {
   "cell_type": "markdown",
   "id": "antique-contributor",
   "metadata": {},
   "source": [
    "b) Write the code using only logical operators, i.e. no conditional branching"
   ]
  },
  {
   "cell_type": "code",
   "execution_count": 5,
   "id": "indirect-manufacturer",
   "metadata": {},
   "outputs": [
    {
     "name": "stdout",
     "output_type": "stream",
     "text": [
      "Enter a year: 2024\n",
      "a leap year.\n"
     ]
    }
   ],
   "source": [
    "\n",
    "year = int(input(\"Enter a year: \"))\n",
    "\n",
    "\n",
    "is_leap_year = (year % 4 == 0) and (year % 100 != 0 or year % 400 == 0)\n",
    "if is_leap_year:\n",
    "    \n",
    "    print (\"a leap year.\")\n",
    "\n",
    "else: \n",
    "        print(\"not a leap year\")\n",
    "      \n"
   ]
  },
  {
   "cell_type": "markdown",
   "id": "numeric-belly",
   "metadata": {},
   "source": [
    "8. a) Write python code that computes the sum of the square of the first n natural numbers.\n",
    "One version with a \"for loop\" and another version with a \"while loop\"."
   ]
  },
  {
   "cell_type": "code",
   "execution_count": 15,
   "id": "saving-vietnamese",
   "metadata": {},
   "outputs": [
    {
     "name": "stdout",
     "output_type": "stream",
     "text": [
      " enter a range of summation2\n",
      "5\n"
     ]
    }
   ],
   "source": [
    "#for loop\n",
    "x=int(input(\" enter a range of summation\"))\n",
    "sum=0\n",
    "for i in range (x+1): \n",
    "      sum= sum + (i**2)\n",
    "print(sum)\n",
    "    "
   ]
  },
  {
   "cell_type": "code",
   "execution_count": 41,
   "id": "dress-guarantee",
   "metadata": {},
   "outputs": [
    {
     "ename": "IndentationError",
     "evalue": "unindent does not match any outer indentation level (<tokenize>, line 7)",
     "output_type": "error",
     "traceback": [
      "\u001b[0;36m  File \u001b[0;32m\"<tokenize>\"\u001b[0;36m, line \u001b[0;32m7\u001b[0m\n\u001b[0;31m    i+=1\u001b[0m\n\u001b[0m    ^\u001b[0m\n\u001b[0;31mIndentationError\u001b[0m\u001b[0;31m:\u001b[0m unindent does not match any outer indentation level\n"
     ]
    }
   ],
   "source": [
    "# while loop\n",
    "x=int(input(\" enter a range of summation\"))\n",
    "sum=0\n",
    "i = 1\n",
    "while i <= x:\n",
    "      sum= sum + (i**2)\n",
    "    i+=1\n",
    "    \n",
    "print(sum) # i do not know the reason why it is not running\n",
    "           \n",
    "          \n"
   ]
  },
  {
   "cell_type": "markdown",
   "id": "speaking-insured",
   "metadata": {},
   "source": [
    "b) Write python code that prints, for a natural number M , the smallest natural number\n",
    "n such that 12 + 22 + · · · + n2 ≥ M. One version with a \"for loop\" and another version\n",
    "with a \"while loop\"."
   ]
  },
  {
   "cell_type": "code",
   "execution_count": 23,
   "id": "clear-procurement",
   "metadata": {},
   "outputs": [
    {
     "name": "stdout",
     "output_type": "stream",
     "text": [
      "enter a natural numbers6\n",
      "3\n",
      "4\n",
      "5\n"
     ]
    }
   ],
   "source": [
    "#for loop\n",
    "y=int(input(\"enter a natural numbers\"))\n",
    "sum=0\n",
    "for i in range (y):\n",
    "    sum=sum+(i**2)\n",
    "    if sum>=y:\n",
    "        print(i)"
   ]
  },
  {
   "cell_type": "code",
   "execution_count": null,
   "id": "coral-mayor",
   "metadata": {},
   "outputs": [],
   "source": [
    "#while loop\n",
    "y=int(input(\"enter a natural numbers\"))\n",
    "sum=0\n",
    "i=0\n",
    "while i <= y:\n",
    "    sum=sum+(i**2)\n",
    "    if sum>=y:\n",
    "        i+=1\n",
    "        print(i)\n",
    "        #break\n",
    "        \n"
   ]
  },
  {
   "cell_type": "markdown",
   "id": "outer-commons",
   "metadata": {},
   "source": [
    "9. a) Write python code that prints all the divisors of a given natural number"
   ]
  },
  {
   "cell_type": "code",
   "execution_count": 39,
   "id": "subject-jerusalem",
   "metadata": {},
   "outputs": [
    {
     "name": "stdout",
     "output_type": "stream",
     "text": [
      "Enter a natural number: 5\n",
      "Divisors of {number} are:\n",
      "1\n",
      "5\n"
     ]
    }
   ],
   "source": [
    "\n",
    "number = int(input(\"Enter a natural number: \"))\n",
    "\n",
    "\n",
    "print(\"Divisors of {number} are:\")\n",
    "\n",
    "\n",
    "for i in range(1, number + 1):\n",
    "    if number % i == 0: \n",
    "        print(i)\n"
   ]
  },
  {
   "cell_type": "code",
   "execution_count": null,
   "id": "referenced-harbor",
   "metadata": {},
   "outputs": [],
   "source": []
  }
 ],
 "metadata": {
  "kernelspec": {
   "display_name": "Python 3",
   "language": "python",
   "name": "python3"
  },
  "language_info": {
   "codemirror_mode": {
    "name": "ipython",
    "version": 3
   },
   "file_extension": ".py",
   "mimetype": "text/x-python",
   "name": "python",
   "nbconvert_exporter": "python",
   "pygments_lexer": "ipython3",
   "version": "3.9.2"
  }
 },
 "nbformat": 4,
 "nbformat_minor": 5
}
