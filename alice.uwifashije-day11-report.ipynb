{
 "cells": [
  {
   "cell_type": "markdown",
   "id": "grand-essex",
   "metadata": {},
   "source": [
    "Exercise 1:\n",
    "\n",
    "Create a NumPy array of integers from 1 to 10"
   ]
  },
  {
   "cell_type": "code",
   "execution_count": 2,
   "id": "removable-yorkshire",
   "metadata": {},
   "outputs": [
    {
     "name": "stdout",
     "output_type": "stream",
     "text": [
      "[1 2 3 4 5 6 7 8 9]\n"
     ]
    }
   ],
   "source": [
    "import numpy as np\n",
    "a=np.arange(1,10)\n",
    "print(a)"
   ]
  },
  {
   "cell_type": "markdown",
   "id": "clear-boring",
   "metadata": {},
   "source": [
    "Exercise 2:\n",
    "\n",
    "Create a 3x3 NumPy array filled with zeros"
   ]
  },
  {
   "cell_type": "code",
   "execution_count": 4,
   "id": "seven-article",
   "metadata": {},
   "outputs": [
    {
     "name": "stdout",
     "output_type": "stream",
     "text": [
      "[[0. 0. 0.]\n",
      " [0. 0. 0.]\n",
      " [0. 0. 0.]]\n"
     ]
    }
   ],
   "source": [
    "a=np.zeros([3,3])\n",
    "print(a)\n"
   ]
  },
  {
   "cell_type": "markdown",
   "id": "forbidden-event",
   "metadata": {},
   "source": [
    "Exercise 3:\n",
    "\n",
    "Create a NumPy array of 10 evenly spaced numbers between 0 and 5."
   ]
  },
  {
   "cell_type": "code",
   "execution_count": 10,
   "id": "advisory-musician",
   "metadata": {},
   "outputs": [
    {
     "name": "stdout",
     "output_type": "stream",
     "text": [
      "[0.         0.55555556 1.11111111 1.66666667 2.22222222 2.77777778\n",
      " 3.33333333 3.88888889 4.44444444 5.        ]\n"
     ]
    }
   ],
   "source": [
    "a=np.linspace(0,5,10)\n",
    "print(a)"
   ]
  },
  {
   "cell_type": "markdown",
   "id": "verbal-dallas",
   "metadata": {},
   "source": [
    "Exercise 4:\n",
    "\n",
    "Create a 5x5 identity matrix using NumPy."
   ]
  },
  {
   "cell_type": "code",
   "execution_count": 18,
   "id": "worst-label",
   "metadata": {},
   "outputs": [
    {
     "name": "stdout",
     "output_type": "stream",
     "text": [
      "[[1. 0. 0. 0. 0.]\n",
      " [0. 1. 0. 0. 0.]\n",
      " [0. 0. 1. 0. 0.]\n",
      " [0. 0. 0. 1. 0.]\n",
      " [0. 0. 0. 0. 1.]]\n"
     ]
    }
   ],
   "source": [
    "import numpy as np\n",
    "a=np.eye(5,5)\n",
    "print(a)\n"
   ]
  },
  {
   "cell_type": "markdown",
   "id": "prerequisite-reflection",
   "metadata": {},
   "source": [
    "Exercise 5:\n",
    "\n",
    "Create a 4x4 matrix with random values between 0 and 1"
   ]
  },
  {
   "cell_type": "code",
   "execution_count": 38,
   "id": "competent-canyon",
   "metadata": {},
   "outputs": [
    {
     "name": "stdout",
     "output_type": "stream",
     "text": [
      "[[0.83580489 0.81154779 0.58930568 0.04362333]\n",
      " [0.41359517 0.50709893 0.50539645 0.77381173]\n",
      " [0.23478652 0.03645383 0.08953707 0.62267522]\n",
      " [0.69350226 0.97385475 0.69811684 0.8388737 ]]\n"
     ]
    }
   ],
   "source": [
    "a=np.random.random([4,4])\n",
    "print(a)\n",
    "\n"
   ]
  },
  {
   "cell_type": "markdown",
   "id": "interracial-scroll",
   "metadata": {},
   "source": [
    "Exercise 6:\n",
    "\n",
    "Find the shape of a NumPy array."
   ]
  },
  {
   "cell_type": "code",
   "execution_count": 39,
   "id": "organized-bullet",
   "metadata": {},
   "outputs": [
    {
     "data": {
      "text/plain": [
       "(4, 4)"
      ]
     },
     "execution_count": 39,
     "metadata": {},
     "output_type": "execute_result"
    }
   ],
   "source": [
    "np.shape(a)"
   ]
  },
  {
   "cell_type": "code",
   "execution_count": 40,
   "id": "private-equipment",
   "metadata": {},
   "outputs": [
    {
     "data": {
      "text/plain": [
       "(4, 4)"
      ]
     },
     "execution_count": 40,
     "metadata": {},
     "output_type": "execute_result"
    }
   ],
   "source": [
    "a.shape"
   ]
  },
  {
   "cell_type": "markdown",
   "id": "purple-valuation",
   "metadata": {},
   "source": [
    "Exercise 7:\n",
    "\n",
    "Reshape a 1D NumPy array of 16 elements into a 4x4 matrix"
   ]
  },
  {
   "cell_type": "code",
   "execution_count": 42,
   "id": "indonesian-sequence",
   "metadata": {},
   "outputs": [
    {
     "data": {
      "text/plain": [
       "array([[0.83580489, 0.81154779, 0.58930568, 0.04362333],\n",
       "       [0.41359517, 0.50709893, 0.50539645, 0.77381173],\n",
       "       [0.23478652, 0.03645383, 0.08953707, 0.62267522],\n",
       "       [0.69350226, 0.97385475, 0.69811684, 0.8388737 ]])"
      ]
     },
     "execution_count": 42,
     "metadata": {},
     "output_type": "execute_result"
    }
   ],
   "source": [
    "a.reshape([4,4])"
   ]
  },
  {
   "cell_type": "markdown",
   "id": "female-conflict",
   "metadata": {},
   "source": [
    "Exercise 8:\n",
    "\n",
    "Find the data type of the elements in a NumPy array."
   ]
  },
  {
   "cell_type": "code",
   "execution_count": 43,
   "id": "israeli-binding",
   "metadata": {},
   "outputs": [
    {
     "data": {
      "text/plain": [
       "dtype('float64')"
      ]
     },
     "execution_count": 43,
     "metadata": {},
     "output_type": "execute_result"
    }
   ],
   "source": [
    "a.dtype"
   ]
  },
  {
   "cell_type": "markdown",
   "id": "external-software",
   "metadata": {},
   "source": [
    "Exercise 9:\n",
    "\n",
    "Create a NumPy array of integers from 1 to 100 and find all even numbers in the array."
   ]
  },
  {
   "cell_type": "code",
   "execution_count": 47,
   "id": "arctic-project",
   "metadata": {},
   "outputs": [
    {
     "name": "stdout",
     "output_type": "stream",
     "text": [
      "[ 1  2  3  4  5  6  7  8  9 10 11 12 13 14 15 16 17 18 19 20 21 22 23 24\n",
      " 25 26 27 28 29 30 31 32 33 34 35 36 37 38 39 40 41 42 43 44 45 46 47 48\n",
      " 49 50 51 52 53 54 55 56 57 58 59 60 61 62 63 64 65 66 67 68 69 70 71 72\n",
      " 73 74 75 76 77 78 79 80 81 82 83 84 85 86 87 88 89 90 91 92 93 94 95 96\n",
      " 97 98 99]\n"
     ]
    },
    {
     "data": {
      "text/plain": [
       "array([ 2,  4,  6,  8, 10, 12, 14, 16, 18, 20, 22, 24, 26, 28, 30, 32, 34,\n",
       "       36, 38, 40, 42, 44, 46, 48, 50, 52, 54, 56, 58, 60, 62, 64, 66, 68,\n",
       "       70, 72, 74, 76, 78, 80, 82, 84, 86, 88, 90, 92, 94, 96, 98])"
      ]
     },
     "execution_count": 47,
     "metadata": {},
     "output_type": "execute_result"
    }
   ],
   "source": [
    "b=np.arange(1,100)\n",
    "print(b)\n",
    "b[b%2==0]"
   ]
  },
  {
   "cell_type": "markdown",
   "id": "bound-alexander",
   "metadata": {},
   "source": [
    "Exercise 10:\n",
    "\n",
    "Generate a 6x6 matrix of random integers between 10 and 50"
   ]
  },
  {
   "cell_type": "code",
   "execution_count": 88,
   "id": "current-toolbox",
   "metadata": {},
   "outputs": [
    {
     "name": "stdout",
     "output_type": "stream",
     "text": [
      "[[29 12 40 16 17 26]\n",
      " [20 32 30 40 42 15]\n",
      " [45 34 38 10 31 13]\n",
      " [18 15 10 37 41 14]\n",
      " [39 12 28 46 34 18]\n",
      " [24 43 30 32 39 33]]\n"
     ]
    }
   ],
   "source": [
    "c=np.random.randint(10,50,[6,6])\n",
    "print(c)\n"
   ]
  },
  {
   "cell_type": "markdown",
   "id": "infinite-action",
   "metadata": {},
   "source": [
    "Exercise 11:\n",
    "\n",
    "Slice a 2D NumPy array to extract a submatrix"
   ]
  },
  {
   "cell_type": "code",
   "execution_count": 90,
   "id": "seventh-protocol",
   "metadata": {},
   "outputs": [
    {
     "name": "stdout",
     "output_type": "stream",
     "text": [
      "[[20 32 30 40 42 15]\n",
      " [45 34 38 10 31 13]]\n"
     ]
    }
   ],
   "source": [
    "import numpy as np\n",
    "d=c[1:3,]\n",
    "print(d)"
   ]
  },
  {
   "cell_type": "markdown",
   "id": "injured-correction",
   "metadata": {},
   "source": [
    "Exercise 12:\n",
    "\n",
    "Calculate the sum of all elements in a NumPy array."
   ]
  },
  {
   "cell_type": "code",
   "execution_count": 65,
   "id": "optional-thumbnail",
   "metadata": {},
   "outputs": [
    {
     "name": "stdout",
     "output_type": "stream",
     "text": [
      "<built-in method sum of numpy.ndarray object at 0x7f1f2c18cdb0>\n"
     ]
    }
   ],
   "source": [
    "e=np.arange(1,10)\n",
    "f=e.sum\n",
    "print(f)"
   ]
  },
  {
   "cell_type": "markdown",
   "id": "casual-boston",
   "metadata": {},
   "source": [
    "Exercise 13:\n",
    "\n",
    "Calculate the mean, median, and standard deviation of a NumPy array"
   ]
  },
  {
   "cell_type": "code",
   "execution_count": 68,
   "id": "automated-simpson",
   "metadata": {},
   "outputs": [
    {
     "name": "stdout",
     "output_type": "stream",
     "text": [
      "5.0\n"
     ]
    }
   ],
   "source": [
    "a=np.arange(1,10)\n",
    "x=np.mean(a)\n",
    "print(x)"
   ]
  },
  {
   "cell_type": "code",
   "execution_count": 70,
   "id": "laughing-warning",
   "metadata": {},
   "outputs": [
    {
     "name": "stdout",
     "output_type": "stream",
     "text": [
      "5.0\n"
     ]
    }
   ],
   "source": [
    "y=np.median(a)\n",
    "print(y)"
   ]
  },
  {
   "cell_type": "code",
   "execution_count": 72,
   "id": "outer-blame",
   "metadata": {},
   "outputs": [
    {
     "name": "stdout",
     "output_type": "stream",
     "text": [
      "2.581988897471611\n"
     ]
    }
   ],
   "source": [
    "z=np.std(a)\n",
    "print(z)"
   ]
  },
  {
   "cell_type": "markdown",
   "id": "characteristic-brake",
   "metadata": {},
   "source": [
    "Exercise 14:\n",
    "\n",
    "Find the maximum and minimum values in a NumPy array."
   ]
  },
  {
   "cell_type": "code",
   "execution_count": 75,
   "id": "planned-acting",
   "metadata": {},
   "outputs": [
    {
     "name": "stdout",
     "output_type": "stream",
     "text": [
      "8\n"
     ]
    }
   ],
   "source": [
    "a=np.arange(1,10)\n",
    "v=np.argmax(a)\n",
    "print(v)"
   ]
  },
  {
   "cell_type": "code",
   "execution_count": 76,
   "id": "removed-savings",
   "metadata": {},
   "outputs": [
    {
     "name": "stdout",
     "output_type": "stream",
     "text": [
      "0\n"
     ]
    }
   ],
   "source": [
    "g=np.argmin(a)\n",
    "print(g)"
   ]
  },
  {
   "cell_type": "markdown",
   "id": "systematic-operations",
   "metadata": {},
   "source": [
    "Exercise 15:\n",
    "\n",
    "Create a NumPy array of 20 random integers and find the index of the maximum value"
   ]
  },
  {
   "cell_type": "code",
   "execution_count": 86,
   "id": "optional-retreat",
   "metadata": {},
   "outputs": [
    {
     "name": "stdout",
     "output_type": "stream",
     "text": [
      "[[18  3 17  5]\n",
      " [ 6 11 17 15]\n",
      " [13 11 18  9]]\n",
      "0\n"
     ]
    }
   ],
   "source": [
    "my_int=np.random.randint(20,size=(3,4))\n",
    "print(my_int)\n",
    "print(np.argmax(my_int))"
   ]
  },
  {
   "cell_type": "markdown",
   "id": "chemical-cylinder",
   "metadata": {},
   "source": [
    "Exercise 16:¶\n",
    "\n",
    "Create a NumPy array and reverse its elements."
   ]
  },
  {
   "cell_type": "code",
   "execution_count": 91,
   "id": "optimum-factory",
   "metadata": {},
   "outputs": [
    {
     "name": "stdout",
     "output_type": "stream",
     "text": [
      "[9 8 7 6 5 4 3 2 1]\n"
     ]
    }
   ],
   "source": [
    "bb=np.flip(a)\n",
    "print(bb)"
   ]
  },
  {
   "cell_type": "markdown",
   "id": "rational-ensemble",
   "metadata": {},
   "source": [
    "Exercise 17:\n",
    "\n",
    "Create a 3x3 matrix and multiply it element-wise by another 3x3 matrix."
   ]
  },
  {
   "cell_type": "code",
   "execution_count": 101,
   "id": "exterior-longitude",
   "metadata": {},
   "outputs": [
    {
     "name": "stdout",
     "output_type": "stream",
     "text": [
      "[[297 364 322]\n",
      " [260 273 377]\n",
      " [260 338 260]]\n"
     ]
    }
   ],
   "source": [
    "aaa=np.random.randint(20,30,[3,3])\n",
    "bbb=np.random.randint(10,15,[3,3])\n",
    "#print(aaa)\n",
    "#print(bbb)\n",
    "print(np.multiply(aaa,bbb))"
   ]
  },
  {
   "cell_type": "markdown",
   "id": "crude-bangkok",
   "metadata": {},
   "source": [
    "Exercise 18:¶\n",
    "\n",
    "Create a diagonal matrix from a given 1D array"
   ]
  },
  {
   "cell_type": "code",
   "execution_count": 100,
   "id": "secure-smith",
   "metadata": {},
   "outputs": [
    {
     "data": {
      "text/plain": [
       "array([[1, 0, 0, 0, 0, 0, 0, 0, 0],\n",
       "       [0, 2, 0, 0, 0, 0, 0, 0, 0],\n",
       "       [0, 0, 3, 0, 0, 0, 0, 0, 0],\n",
       "       [0, 0, 0, 4, 0, 0, 0, 0, 0],\n",
       "       [0, 0, 0, 0, 5, 0, 0, 0, 0],\n",
       "       [0, 0, 0, 0, 0, 6, 0, 0, 0],\n",
       "       [0, 0, 0, 0, 0, 0, 7, 0, 0],\n",
       "       [0, 0, 0, 0, 0, 0, 0, 8, 0],\n",
       "       [0, 0, 0, 0, 0, 0, 0, 0, 9]])"
      ]
     },
     "execution_count": 100,
     "metadata": {},
     "output_type": "execute_result"
    }
   ],
   "source": [
    "import numpy as np\n",
    "a=np.arange(1,10)\n",
    "np.diag(a)"
   ]
  },
  {
   "cell_type": "markdown",
   "id": "lovely-chorus",
   "metadata": {},
   "source": [
    "Exercise 19:\n",
    "\n",
    "Perform matrix multiplication on two 2D NumPy arrays"
   ]
  },
  {
   "cell_type": "code",
   "execution_count": 6,
   "id": "unsigned-edition",
   "metadata": {},
   "outputs": [
    {
     "ename": "TypeError",
     "evalue": "unsupported operand type(s) for /: 'int' and 'list'",
     "output_type": "error",
     "traceback": [
      "\u001b[0;31m---------------------------------------------------------------------------\u001b[0m",
      "\u001b[0;31mTypeError\u001b[0m                                 Traceback (most recent call last)",
      "\u001b[0;32m<ipython-input-6-cf18478fb7dc>\u001b[0m in \u001b[0;36m<module>\u001b[0;34m\u001b[0m\n\u001b[1;32m      1\u001b[0m \u001b[0;32mimport\u001b[0m \u001b[0mnumpy\u001b[0m \u001b[0;32mas\u001b[0m \u001b[0mnp\u001b[0m\u001b[0;34m\u001b[0m\u001b[0;34m\u001b[0m\u001b[0m\n\u001b[0;32m----> 2\u001b[0;31m \u001b[0mccc\u001b[0m\u001b[0;34m=\u001b[0m\u001b[0mnp\u001b[0m\u001b[0;34m.\u001b[0m\u001b[0marange\u001b[0m\u001b[0;34m(\u001b[0m\u001b[0;36m1\u001b[0m\u001b[0;34m,\u001b[0m\u001b[0;36m10\u001b[0m\u001b[0;34m,\u001b[0m\u001b[0;34m[\u001b[0m\u001b[0;36m2\u001b[0m\u001b[0;34m,\u001b[0m\u001b[0;36m2\u001b[0m\u001b[0;34m]\u001b[0m\u001b[0;34m)\u001b[0m\u001b[0;34m\u001b[0m\u001b[0;34m\u001b[0m\u001b[0m\n\u001b[0m\u001b[1;32m      3\u001b[0m \u001b[0mddd\u001b[0m\u001b[0;34m=\u001b[0m\u001b[0mnp\u001b[0m\u001b[0;34m.\u001b[0m\u001b[0marange\u001b[0m\u001b[0;34m(\u001b[0m\u001b[0;36m2\u001b[0m\u001b[0;34m,\u001b[0m\u001b[0;36m5\u001b[0m\u001b[0;34m,\u001b[0m\u001b[0;34m[\u001b[0m\u001b[0;36m2\u001b[0m\u001b[0;34m,\u001b[0m\u001b[0;36m2\u001b[0m\u001b[0;34m]\u001b[0m\u001b[0;34m)\u001b[0m\u001b[0;34m\u001b[0m\u001b[0;34m\u001b[0m\u001b[0m\n\u001b[1;32m      4\u001b[0m \u001b[0mprint\u001b[0m\u001b[0;34m(\u001b[0m\u001b[0mnp\u001b[0m\u001b[0;34m.\u001b[0m\u001b[0mmultiply\u001b[0m\u001b[0;34m(\u001b[0m\u001b[0mccc\u001b[0m\u001b[0;34m,\u001b[0m\u001b[0mddd\u001b[0m\u001b[0;34m)\u001b[0m\u001b[0;34m)\u001b[0m\u001b[0;34m\u001b[0m\u001b[0;34m\u001b[0m\u001b[0m\n",
      "\u001b[0;31mTypeError\u001b[0m: unsupported operand type(s) for /: 'int' and 'list'"
     ]
    }
   ],
   "source": [
    "import numpy as np\n",
    "ccc=np.arange(1,10,[2,2])\n",
    "ddd=np.arange(2,5,[2,2])\n",
    "print(np.multiply(ccc,ddd))"
   ]
  },
  {
   "cell_type": "markdown",
   "id": "meaning-privacy",
   "metadata": {},
   "source": [
    "Exercise 20:¶\n",
    "\n",
    "Flatten a 2D NumPy array into a 1D array."
   ]
  },
  {
   "cell_type": "code",
   "execution_count": 9,
   "id": "humanitarian-witness",
   "metadata": {},
   "outputs": [
    {
     "name": "stdout",
     "output_type": "stream",
     "text": [
      "[2 0 0 1 9 7]\n"
     ]
    }
   ],
   "source": [
    "import numpy as np\n",
    "ads= np.array([[2,0,0], [1,9,7]])\n",
    "ggg = ads.flatten()\n",
    "print(ggg)\n"
   ]
  },
  {
   "cell_type": "markdown",
   "id": "placed-bangladesh",
   "metadata": {},
   "source": [
    "Exercise 21:\n",
    "\n",
    "Stack two NumPy arrays vertically."
   ]
  },
  {
   "cell_type": "code",
   "execution_count": 11,
   "id": "alien-dining",
   "metadata": {},
   "outputs": [
    {
     "name": "stdout",
     "output_type": "stream",
     "text": [
      "[[2 0 0]\n",
      " [1 9 7]]\n"
     ]
    }
   ],
   "source": [
    "fff = np.vstack(ads)\n",
    "print(fff)\n"
   ]
  },
  {
   "cell_type": "markdown",
   "id": "first-framing",
   "metadata": {},
   "source": [
    "Exercise 22:\n",
    "\n",
    "Stack two NumPy arrays horizontally"
   ]
  },
  {
   "cell_type": "code",
   "execution_count": 13,
   "id": "stuffed-restriction",
   "metadata": {},
   "outputs": [
    {
     "name": "stdout",
     "output_type": "stream",
     "text": [
      "[2 0 0 1 9 7]\n"
     ]
    }
   ],
   "source": [
    "\n",
    "w = np.hstack(ads)\n",
    "print(w)\n"
   ]
  },
  {
   "cell_type": "markdown",
   "id": "hollow-navigator",
   "metadata": {},
   "source": [
    "ercise 23:¶\n",
    "\n",
    "Split a NumPy array into multiple sub-arrays"
   ]
  },
  {
   "cell_type": "code",
   "execution_count": 15,
   "id": "fundamental-pencil",
   "metadata": {},
   "outputs": [
    {
     "name": "stdout",
     "output_type": "stream",
     "text": [
      "[array([1, 2, 3]), array([4, 5, 6]), array([7, 8])]\n"
     ]
    }
   ],
   "source": [
    "p = np.array_split(np.array([1, 2, 3, 4, 5, 6,7,8]), 3)\n",
    "print(p)\n"
   ]
  },
  {
   "cell_type": "markdown",
   "id": "irish-senator",
   "metadata": {},
   "source": [
    "Exercise 24:\n",
    "\n",
    "Generate a random NumPy array and round each element to two decimal places."
   ]
  },
  {
   "cell_type": "code",
   "execution_count": 18,
   "id": "detected-shark",
   "metadata": {},
   "outputs": [
    {
     "name": "stdout",
     "output_type": "stream",
     "text": [
      "[(b'Alice', 25, 5.5) (b'Aline', 30, 5.8)]\n"
     ]
    }
   ],
   "source": [
    "dtype = [('name', 'S10'), ('age', 'i4'), ('height', 'f4')]\n",
    "structured_array = np.array([('Alice', 25, 5.5), ('Aline', 30, 5.8)], dtype=dtype)\n",
    "print(structured_array)\n"
   ]
  },
  {
   "cell_type": "markdown",
   "id": "tight-scroll",
   "metadata": {},
   "source": [
    "Exercise 25:¶\n",
    "\n",
    "Find the unique elements of a NumPy array."
   ]
  },
  {
   "cell_type": "code",
   "execution_count": 24,
   "id": "responsible-washer",
   "metadata": {},
   "outputs": [
    {
     "name": "stdout",
     "output_type": "stream",
     "text": [
      "[1 2 3 6 7 8 9]\n"
     ]
    }
   ],
   "source": [
    "vv = np.random.randint(1, 10, (3,3))\n",
    "u = np.unique(vv)\n",
    "print(u)\n"
   ]
  },
  {
   "cell_type": "markdown",
   "id": "affected-accuracy",
   "metadata": {},
   "source": [
    "Exercise 26:\n",
    "\n",
    "Replace all elements in a NumPy array that are less than a specific value with that value"
   ]
  },
  {
   "cell_type": "code",
   "execution_count": 26,
   "id": "divine-recovery",
   "metadata": {},
   "outputs": [
    {
     "name": "stdout",
     "output_type": "stream",
     "text": [
      "[[3 8 7]\n",
      " [1 6 9]\n",
      " [2 1 8]]\n"
     ]
    }
   ],
   "source": [
    "ss = np.transpose(vv)\n",
    "print(ss)\n"
   ]
  },
  {
   "cell_type": "markdown",
   "id": "naughty-inspection",
   "metadata": {},
   "source": [
    "Exercise 27:\n",
    "\n",
    "Find the cumulative sum of the elements in a NumPy array."
   ]
  },
  {
   "cell_type": "code",
   "execution_count": 27,
   "id": "handled-stereo",
   "metadata": {},
   "outputs": [
    {
     "name": "stdout",
     "output_type": "stream",
     "text": [
      "[ 4 10 18]\n"
     ]
    }
   ],
   "source": [
    "arr_1 = np.array([1, 2, 3])\n",
    "arr_2 = np.array([4, 5, 6])\n",
    "result = np.multiply(arr_1, arr_2)\n",
    "print(result)\n"
   ]
  },
  {
   "cell_type": "markdown",
   "id": "military-wichita",
   "metadata": {},
   "source": [
    "Exercise 28:¶\n",
    "\n",
    "Create a NumPy array and find the number of non-zero elements in it"
   ]
  },
  {
   "cell_type": "code",
   "execution_count": 28,
   "id": "exceptional-origin",
   "metadata": {},
   "outputs": [
    {
     "name": "stdout",
     "output_type": "stream",
     "text": [
      "32\n"
     ]
    }
   ],
   "source": [
    "dot_product = np.dot(arr_1, arr_2)\n",
    "print(dot_product)\n"
   ]
  },
  {
   "cell_type": "markdown",
   "id": "peaceful-transcription",
   "metadata": {},
   "source": [
    "Exercise 29:¶\n",
    "\n",
    "Create a NumPy array of random integers and sort it in ascending order"
   ]
  },
  {
   "cell_type": "code",
   "execution_count": 31,
   "id": "wireless-height",
   "metadata": {},
   "outputs": [
    {
     "name": "stdout",
     "output_type": "stream",
     "text": [
      "[-3  6 -3]\n"
     ]
    }
   ],
   "source": [
    "cross_product=np.cross(arr_1,arr_2)\n",
    "print(cross_product)"
   ]
  },
  {
   "cell_type": "markdown",
   "id": "greater-double",
   "metadata": {},
   "source": [
    "### Exercise 30:\n",
    "Find the row-wise and column-wise sum of a 3x3 matrix."
   ]
  },
  {
   "cell_type": "code",
   "execution_count": 32,
   "id": "certified-account",
   "metadata": {},
   "outputs": [
    {
     "name": "stdout",
     "output_type": "stream",
     "text": [
      "[1 1 3 4 5 9]\n"
     ]
    }
   ],
   "source": [
    "m = np.array([3, 1, 4, 1, 5, 9])\n",
    "mm = np.sort(m)\n",
    "print(mm)\n"
   ]
  },
  {
   "cell_type": "markdown",
   "id": "gross-digest",
   "metadata": {},
   "source": [
    "### Exercise 31:\n",
    "Generate a 2D NumPy array with random values and normalize it (scale the values between 0 and 1)"
   ]
  },
  {
   "cell_type": "code",
   "execution_count": 34,
   "id": "wound-distribution",
   "metadata": {},
   "outputs": [
    {
     "name": "stdout",
     "output_type": "stream",
     "text": [
      "[[1 2 3]\n",
      " [1 6 8]\n",
      " [7 8 9]]\n"
     ]
    }
   ],
   "source": [
    "sorted_matrix = np.sort(vv, axis=1)\n",
    "print(sorted_matrix)\n"
   ]
  },
  {
   "cell_type": "markdown",
   "id": "instructional-custody",
   "metadata": {},
   "source": [
    "### Exercise 32:\n",
    "Create two NumPy arrays and find the dot product"
   ]
  },
  {
   "cell_type": "code",
   "execution_count": 38,
   "id": "nonprofit-survivor",
   "metadata": {},
   "outputs": [
    {
     "name": "stdout",
     "output_type": "stream",
     "text": [
      "[1 3 6]\n"
     ]
    }
   ],
   "source": [
    "dotp = np.cumsum([1,2,3])\n",
    "print(dotp)\n"
   ]
  },
  {
   "cell_type": "markdown",
   "id": "noted-snapshot",
   "metadata": {},
   "source": [
    "### Exercise 33:\n",
    "Find the trace of a square NumPy matrix"
   ]
  },
  {
   "cell_type": "code",
   "execution_count": 44,
   "id": "mobile-astrology",
   "metadata": {},
   "outputs": [
    {
     "name": "stdout",
     "output_type": "stream",
     "text": [
      "[     3      3      6     48    288    288   2016  18144 145152]\n"
     ]
    }
   ],
   "source": [
    "xx = np.cumprod(vv)\n",
    "print(xx)\n"
   ]
  },
  {
   "cell_type": "markdown",
   "id": "certified-cathedral",
   "metadata": {},
   "source": [
    "### Exercise 35:\n",
    "Create a 1D NumPy array and convert it into a column vector"
   ]
  },
  {
   "cell_type": "code",
   "execution_count": 45,
   "id": "universal-stanford",
   "metadata": {},
   "outputs": [
    {
     "name": "stdout",
     "output_type": "stream",
     "text": [
      "[1 2 3 4 5 6]\n"
     ]
    }
   ],
   "source": [
    "arr_3 = np.union1d(arr_1, arr_2)\n",
    "print(arr_3)\n"
   ]
  },
  {
   "cell_type": "markdown",
   "id": "suffering-average",
   "metadata": {},
   "source": [
    "### Exercise 36:\n",
    "Find the determinant of a 3x3 matrix"
   ]
  },
  {
   "cell_type": "code",
   "execution_count": 46,
   "id": "latter-hostel",
   "metadata": {},
   "outputs": [
    {
     "name": "stdout",
     "output_type": "stream",
     "text": [
      "Determinant of the 2x2 matrix is: 14.000000000000004\n"
     ]
    }
   ],
   "source": [
    "import numpy as np\n",
    "matrix_2x2 = np.array([[4, 6],\n",
    "                       [3, 8]])\n",
    "\n",
    "det_2x2 = np.linalg.det(matrix_2x2)\n",
    "print(\"Determinant of the 2x2 matrix is:\", det_2x2)\n",
    "\n",
    "\n"
   ]
  },
  {
   "cell_type": "markdown",
   "id": "industrial-house",
   "metadata": {},
   "source": [
    "### Exercise 37:\n",
    "Find the eigenvalues and eigenvectors of a 2x2 matrix"
   ]
  },
  {
   "cell_type": "code",
   "execution_count": 47,
   "id": "convinced-nurse",
   "metadata": {},
   "outputs": [
    {
     "name": "stdout",
     "output_type": "stream",
     "text": [
      "Eigenvalues: [13.22481245+0.j          1.88759377+2.34751836j  1.88759377-2.34751836j]\n",
      "Eigenvectors:\n",
      " [[-0.21290902+0.j         -0.01993586+0.3731436j  -0.01993586-0.3731436j ]\n",
      " [-0.36140031+0.j          0.46248054-0.46188706j  0.46248054+0.46188706j]\n",
      " [-0.90777727+0.j         -0.6581326 +0.j         -0.6581326 -0.j        ]]\n"
     ]
    }
   ],
   "source": [
    "\n",
    "eigenvalues, eigenvectors = np.linalg.eig(vv)\n",
    "print(\"Eigenvalues:\", eigenvalues)\n",
    "print(\"Eigenvectors:\\n\", eigenvectors)\n"
   ]
  },
  {
   "cell_type": "markdown",
   "id": "lyric-strategy",
   "metadata": {},
   "source": [
    "### Exercise 38:\n",
    "Solve a system of linear equations using NumPy"
   ]
  },
  {
   "cell_type": "code",
   "execution_count": 48,
   "id": "acceptable-territory",
   "metadata": {
    "scrolled": true
   },
   "outputs": [
    {
     "name": "stdout",
     "output_type": "stream",
     "text": [
      "[1.3 0.8]\n"
     ]
    }
   ],
   "source": [
    "\n",
    "A = np.array([[2, 3],[4, 1]])\n",
    "B = np.array([5, 6])\n",
    "solution = np.linalg.solve(A, B)\n",
    "print(solution)\n"
   ]
  },
  {
   "cell_type": "markdown",
   "id": "significant-samba",
   "metadata": {},
   "source": [
    "### Exercise 39:\n",
    "Add Gaussian noise to a NumPy array"
   ]
  },
  {
   "cell_type": "markdown",
   "id": "ready-boutique",
   "metadata": {},
   "source": [
    "### Exercise 40:\n",
    "Create a 4x4 matrix and extract the diagonal elements"
   ]
  },
  {
   "cell_type": "code",
   "execution_count": 53,
   "id": "restricted-testing",
   "metadata": {},
   "outputs": [
    {
     "name": "stdout",
     "output_type": "stream",
     "text": [
      "[[2 6 6 7]\n",
      " [5 4 6 8]\n",
      " [5 6 3 5]\n",
      " [1 4 2 6]]\n",
      "[2 4 3 6]\n"
     ]
    }
   ],
   "source": [
    "ddd=np.random.randint(1,10,[4,4])\n",
    "print(ddd)\n",
    "print(np.diag(ddd))"
   ]
  },
  {
   "cell_type": "code",
   "execution_count": null,
   "id": "blind-january",
   "metadata": {},
   "outputs": [],
   "source": []
  }
 ],
 "metadata": {
  "kernelspec": {
   "display_name": "Python 3",
   "language": "python",
   "name": "python3"
  },
  "language_info": {
   "codemirror_mode": {
    "name": "ipython",
    "version": 3
   },
   "file_extension": ".py",
   "mimetype": "text/x-python",
   "name": "python",
   "nbconvert_exporter": "python",
   "pygments_lexer": "ipython3",
   "version": "3.9.2"
  }
 },
 "nbformat": 4,
 "nbformat_minor": 5
}
